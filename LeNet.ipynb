{
 "cells": [
  {
   "cell_type": "code",
   "execution_count": 12,
   "id": "8aca7293",
   "metadata": {},
   "outputs": [],
   "source": [
    "import tensorflow as tf\n",
    "from tensorflow.keras.datasets import mnist\n",
    "from tensorflow.keras.datasets import mnist\n",
    "from tensorflow.keras.layers import Conv2D, MaxPooling2D\n",
    "from tensorflow.keras.layers import Dense, Flatten\n",
    "from tensorflow.keras.models import Sequential"
   ]
  },
  {
   "cell_type": "code",
   "execution_count": 5,
   "id": "48cfb85a",
   "metadata": {},
   "outputs": [],
   "source": [
    "# Loading the dataset and perform splitting\n",
    "(x_train, y_train), (x_test, y_test) = mnist.load_data()\n",
    "# Peforming reshaping operation\n",
    "x_train = x_train.reshape(x_train.shape[0], 28, 28, 1)\n",
    "x_test = x_test.reshape(x_test.shape[0], 28, 28, 1)"
   ]
  },
  {
   "cell_type": "code",
   "execution_count": 6,
   "id": "13923a1f",
   "metadata": {},
   "outputs": [],
   "source": [
    "# Normalization\n",
    "x_train = x_train / 255\n",
    "x_test = x_test / 255"
   ]
  },
  {
   "cell_type": "code",
   "execution_count": 18,
   "id": "e1d9e91e",
   "metadata": {},
   "outputs": [
    {
     "name": "stdout",
     "output_type": "stream",
     "text": [
      "Model: \"sequential_9\"\n",
      "_________________________________________________________________\n",
      " Layer (type)                Output Shape              Param #   \n",
      "=================================================================\n",
      " conv2d_9 (Conv2D)           (None, 24, 24, 6)         156       \n",
      "                                                                 \n",
      " max_pooling2d_7 (MaxPooling  (None, 12, 12, 6)        0         \n",
      " 2D)                                                             \n",
      "                                                                 \n",
      " conv2d_10 (Conv2D)          (None, 8, 8, 16)          2416      \n",
      "                                                                 \n",
      " max_pooling2d_8 (MaxPooling  (None, 4, 4, 16)         0         \n",
      " 2D)                                                             \n",
      "                                                                 \n",
      " flatten_2 (Flatten)         (None, 256)               0         \n",
      "                                                                 \n",
      " dense_5 (Dense)             (None, 120)               30840     \n",
      "                                                                 \n",
      " dense_6 (Dense)             (None, 84)                10164     \n",
      "                                                                 \n",
      " dense_7 (Dense)             (None, 10)                850       \n",
      "                                                                 \n",
      " dense_8 (Dense)             (None, 10)                110       \n",
      "                                                                 \n",
      "=================================================================\n",
      "Total params: 44,536\n",
      "Trainable params: 44,536\n",
      "Non-trainable params: 0\n",
      "_________________________________________________________________\n"
     ]
    }
   ],
   "source": [
    "model = tf.keras.Sequential()\n",
    "\n",
    "\n",
    "model.add(Conv2D(6, kernel_size=(5, 5), activation='relu', input_shape=(28, 28, 1)))\n",
    "\n",
    "\n",
    "model.add(MaxPooling2D(pool_size = (2,2)))\n",
    "\n",
    "\n",
    "model.add(Conv2D(16, kernel_size=(5,5), activation='relu'))\n",
    "\n",
    "\n",
    "model.add(MaxPooling2D(pool_size = (2,2)))\n",
    "\n",
    "\n",
    "model.add(Flatten())\n",
    "\n",
    "model.add(Dense(120, activation='relu'))\n",
    "\n",
    "model.add(Dense(84, activation='relu'))\n",
    "\n",
    "model.add(Dense(10, activation='relu'))\n",
    "\n",
    "model.add(Dense(10, activation='softmax'))\n",
    "\n",
    "\n",
    "model.summary()"
   ]
  },
  {
   "cell_type": "code",
   "execution_count": 19,
   "id": "9d8f9b0a",
   "metadata": {},
   "outputs": [
    {
     "data": {
      "text/plain": [
       "156"
      ]
     },
     "execution_count": 19,
     "metadata": {},
     "output_type": "execute_result"
    }
   ],
   "source": [
    "6 * 1 * 25 + 6"
   ]
  },
  {
   "cell_type": "code",
   "execution_count": 21,
   "id": "14cd495c",
   "metadata": {},
   "outputs": [
    {
     "data": {
      "text/plain": [
       "2416"
      ]
     },
     "execution_count": 21,
     "metadata": {},
     "output_type": "execute_result"
    }
   ],
   "source": [
    "16 * 6 * 25 + 16"
   ]
  },
  {
   "cell_type": "code",
   "execution_count": 22,
   "id": "a42e3da0",
   "metadata": {},
   "outputs": [
    {
     "data": {
      "text/plain": [
       "256"
      ]
     },
     "execution_count": 22,
     "metadata": {},
     "output_type": "execute_result"
    }
   ],
   "source": [
    "4 * 4 * 16"
   ]
  },
  {
   "cell_type": "code",
   "execution_count": 24,
   "id": "7810c4cb",
   "metadata": {},
   "outputs": [
    {
     "data": {
      "text/plain": [
       "30840"
      ]
     },
     "execution_count": 24,
     "metadata": {},
     "output_type": "execute_result"
    }
   ],
   "source": [
    "256 * 120 + 120"
   ]
  },
  {
   "cell_type": "code",
   "execution_count": 25,
   "id": "9694d55e",
   "metadata": {},
   "outputs": [
    {
     "data": {
      "text/plain": [
       "10164"
      ]
     },
     "execution_count": 25,
     "metadata": {},
     "output_type": "execute_result"
    }
   ],
   "source": [
    "120 * 84 + 84"
   ]
  },
  {
   "cell_type": "code",
   "execution_count": 26,
   "id": "5965957a",
   "metadata": {},
   "outputs": [
    {
     "data": {
      "text/plain": [
       "850"
      ]
     },
     "execution_count": 26,
     "metadata": {},
     "output_type": "execute_result"
    }
   ],
   "source": [
    "84 * 10 + 10"
   ]
  },
  {
   "cell_type": "code",
   "execution_count": 27,
   "id": "36a7b05c",
   "metadata": {},
   "outputs": [
    {
     "data": {
      "text/plain": [
       "110"
      ]
     },
     "execution_count": 27,
     "metadata": {},
     "output_type": "execute_result"
    }
   ],
   "source": [
    "10 * 10 + 10"
   ]
  },
  {
   "cell_type": "code",
   "execution_count": 35,
   "id": "2009e97a",
   "metadata": {},
   "outputs": [
    {
     "name": "stdout",
     "output_type": "stream",
     "text": [
      "Epoch 1/20\n",
      "469/469 [==============================] - 18s 35ms/step - loss: 0.4743 - accuracy: 0.8503 - val_loss: 0.1680 - val_accuracy: 0.9520\n",
      "Epoch 2/20\n",
      "469/469 [==============================] - 17s 36ms/step - loss: 0.1223 - accuracy: 0.9643 - val_loss: 0.0779 - val_accuracy: 0.9756\n",
      "Epoch 3/20\n",
      "469/469 [==============================] - 16s 34ms/step - loss: 0.0809 - accuracy: 0.9754 - val_loss: 0.0644 - val_accuracy: 0.9792\n",
      "Epoch 4/20\n",
      "469/469 [==============================] - 16s 34ms/step - loss: 0.0651 - accuracy: 0.9801 - val_loss: 0.0593 - val_accuracy: 0.9816\n",
      "Epoch 5/20\n",
      "469/469 [==============================] - 16s 34ms/step - loss: 0.0496 - accuracy: 0.9852 - val_loss: 0.0467 - val_accuracy: 0.9860\n",
      "Epoch 6/20\n",
      "469/469 [==============================] - 16s 34ms/step - loss: 0.0447 - accuracy: 0.9860 - val_loss: 0.0537 - val_accuracy: 0.9834\n",
      "Epoch 7/20\n",
      "469/469 [==============================] - 16s 34ms/step - loss: 0.0384 - accuracy: 0.9879 - val_loss: 0.0449 - val_accuracy: 0.9854\n",
      "Epoch 8/20\n",
      "469/469 [==============================] - 16s 35ms/step - loss: 0.0333 - accuracy: 0.9896 - val_loss: 0.0474 - val_accuracy: 0.9864\n",
      "Epoch 9/20\n",
      "469/469 [==============================] - 14s 31ms/step - loss: 0.0290 - accuracy: 0.9906 - val_loss: 0.0357 - val_accuracy: 0.9886\n",
      "Epoch 10/20\n",
      "469/469 [==============================] - 9s 19ms/step - loss: 0.0254 - accuracy: 0.9916 - val_loss: 0.0390 - val_accuracy: 0.9880\n",
      "Epoch 11/20\n",
      "469/469 [==============================] - 19s 41ms/step - loss: 0.0228 - accuracy: 0.9925 - val_loss: 0.0399 - val_accuracy: 0.9885\n",
      "Epoch 12/20\n",
      "469/469 [==============================] - 16s 35ms/step - loss: 0.0229 - accuracy: 0.9927 - val_loss: 0.0374 - val_accuracy: 0.9891\n",
      "Epoch 13/20\n",
      "469/469 [==============================] - 16s 34ms/step - loss: 0.0181 - accuracy: 0.9938 - val_loss: 0.0418 - val_accuracy: 0.9881\n",
      "Epoch 14/20\n",
      "469/469 [==============================] - 16s 35ms/step - loss: 0.0171 - accuracy: 0.9943 - val_loss: 0.0525 - val_accuracy: 0.9854\n",
      "Epoch 15/20\n",
      "469/469 [==============================] - 16s 34ms/step - loss: 0.0165 - accuracy: 0.9949 - val_loss: 0.0406 - val_accuracy: 0.9897\n",
      "Epoch 16/20\n",
      "469/469 [==============================] - 17s 35ms/step - loss: 0.0136 - accuracy: 0.9956 - val_loss: 0.0458 - val_accuracy: 0.9880\n",
      "Epoch 17/20\n",
      "469/469 [==============================] - 16s 35ms/step - loss: 0.0130 - accuracy: 0.9959 - val_loss: 0.0371 - val_accuracy: 0.9902\n",
      "Epoch 18/20\n",
      "469/469 [==============================] - 16s 34ms/step - loss: 0.0117 - accuracy: 0.9961 - val_loss: 0.0497 - val_accuracy: 0.9877\n",
      "Epoch 19/20\n",
      "469/469 [==============================] - 16s 35ms/step - loss: 0.0106 - accuracy: 0.9966 - val_loss: 0.0428 - val_accuracy: 0.9882\n",
      "Epoch 20/20\n",
      "469/469 [==============================] - 16s 34ms/step - loss: 0.0123 - accuracy: 0.9958 - val_loss: 0.0416 - val_accuracy: 0.9895\n",
      "313/313 [==============================] - 4s 13ms/step - loss: 0.0416 - accuracy: 0.9895\n",
      "Test Loss: 0.04163787141442299\n",
      "Test accuracy: 0.9894999861717224\n"
     ]
    }
   ],
   "source": [
    "model.compile(loss=\"sparse_categorical_crossentropy\", \n",
    "              optimizer=tf.keras.optimizers.Adam(), \n",
    "              metrics=['accuracy'])\n",
    "\n",
    "model.fit(x_train, y_train, \n",
    "          batch_size=128, \n",
    "          epochs=20, \n",
    "          verbose=1, \n",
    "          validation_data=(x_test, y_test))\n",
    "\n",
    "\n",
    "score = model.evaluate(x_test, y_test)\n",
    "print('Test Loss:', score[0])\n",
    "print('Test accuracy:', score[1])"
   ]
  },
  {
   "cell_type": "code",
   "execution_count": null,
   "id": "bf64b581",
   "metadata": {},
   "outputs": [],
   "source": []
  }
 ],
 "metadata": {
  "kernelspec": {
   "display_name": "Python 3 (ipykernel)",
   "language": "python",
   "name": "python3"
  },
  "language_info": {
   "codemirror_mode": {
    "name": "ipython",
    "version": 3
   },
   "file_extension": ".py",
   "mimetype": "text/x-python",
   "name": "python",
   "nbconvert_exporter": "python",
   "pygments_lexer": "ipython3",
   "version": "3.9.7"
  }
 },
 "nbformat": 4,
 "nbformat_minor": 5
}
